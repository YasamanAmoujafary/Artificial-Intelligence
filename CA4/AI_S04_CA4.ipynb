{
  "cells": [
    {
      "cell_type": "markdown",
      "id": "T0n3wU-qRgJs",
      "metadata": {
        "id": "T0n3wU-qRgJs"
      },
      "source": [
        "# **CA4 @ AI Spring 2025**\n",
        "# Convolutional vs. Fully Connected Neural Networks\n",
        "\n",
        "- **Name:**\n",
        "- **Student ID:**\n",
        "\n",
        "---\n",
        "Your submission should be named using the following format: `AI_CA4_LASTNAME_STUDENTID.ipynb`.\n",
        "\n",
        "---\n",
        "\n",
        " *How to do this problem set:*\n",
        "\n",
        "- Some questions require writing Python code and computing results, and the rest of them have written answers. For coding problems, you will have to fill out all code blocks that say `YOUR CODE HERE`.\n",
        "\n",
        "- For text-based answers, you should replace the text that says `WRITE YOUR ANSWER HERE` with your actual answer.\n",
        "---\n",
        "If you have any further questions or concerns, contact the TAs via email or Telegram."
      ]
    },
    {
      "cell_type": "markdown",
      "id": "QKh6GC6UQxyY",
      "metadata": {
        "id": "QKh6GC6UQxyY"
      },
      "source": [
        "# Introduction\n",
        "In this assignment, you will compare fully connected neural networks with convolutional neural networks to evaluate whether convolutional architectures offer superior performance—and understand the reasons behind any observed differences.\n",
        "\n",
        "**Important Note:**\n",
        "\n",
        "Before you begin, please make sure to review the accompanying PyTorch tutorial provided alongside this file."
      ]
    },
    {
      "cell_type": "markdown",
      "id": "Lfc7L4J5SsKy",
      "metadata": {
        "id": "Lfc7L4J5SsKy"
      },
      "source": [
        "## Colab Setup\n",
        "\n",
        "If you are running this notebook on Google Colab, you can mount your Google Drive using the following code to access or upload files directly from your Drive."
      ]
    },
    {
      "cell_type": "code",
      "execution_count": null,
      "id": "4b82d086",
      "metadata": {
        "colab": {
          "base_uri": "https://localhost:8080/"
        },
        "id": "4b82d086",
        "outputId": "3ed1349d-d9eb-488d-d124-0e2b85eae3ec"
      },
      "outputs": [],
      "source": [
        "from google.colab import drive\n",
        "import os\n",
        "\n",
        "drive.mount('/content/drive')\n",
        "\n",
        "GOOGLE_DRIVE_PATH = os.path.join('drive', 'My Drive', 'AIS25-CA4')\n",
        "os.chdir(GOOGLE_DRIVE_PATH)"
      ]
    },
    {
      "cell_type": "markdown",
      "id": "0y5kRaydR9Fp",
      "metadata": {
        "id": "0y5kRaydR9Fp"
      },
      "source": [
        "## Device\n",
        "\n",
        "As demonstrated in the PyTorch tutorial, PyTorch enable you to run your code on GPU to accelerate computations."
      ]
    },
    {
      "cell_type": "code",
      "execution_count": null,
      "id": "48604461",
      "metadata": {
        "colab": {
          "base_uri": "https://localhost:8080/",
          "height": 35
        },
        "id": "48604461",
        "outputId": "c8c74f6a-33ff-4a8c-8f13-06e8ec5403cd"
      },
      "outputs": [],
      "source": [
        "import torch\n",
        "device = 'cuda' if torch.cuda.is_available() else 'cpu'\n",
        "device"
      ]
    },
    {
      "cell_type": "markdown",
      "id": "90750f3c",
      "metadata": {
        "id": "90750f3c"
      },
      "source": [
        "# Dataset"
      ]
    },
    {
      "cell_type": "markdown",
      "id": "d02b9e2a",
      "metadata": {
        "id": "d02b9e2a"
      },
      "source": [
        "## Transforms & Dataset & Dataloader\n",
        "\n",
        "Here, you should download and load the dataset with the desire transforms. After that, you should split train dataset to train and validation sets. Finally, define the dataloaders for `train`, `validation` and `test`"
      ]
    },
    {
      "cell_type": "code",
      "execution_count": null,
      "id": "5f043318",
      "metadata": {
        "id": "5f043318"
      },
      "outputs": [],
      "source": [
        "classes = ['plane', 'car', 'bird', 'cat', 'deer', 'dog', 'frog', 'horse', 'ship', 'truck']"
      ]
    },
    {
      "cell_type": "code",
      "execution_count": null,
      "id": "c1295cdd",
      "metadata": {
        "id": "c1295cdd"
      },
      "outputs": [],
      "source": [
        "from torchvision import transforms\n",
        "\n",
        "transform_train = transforms.Compose([\n",
        "    transforms.ToTensor(),\n",
        "    transforms.Normalize((0.491, 0.482, 0.446), (0.247, 0.243, 0.261)),\n",
        "])\n",
        "transform_test = transforms.Compose([\n",
        "    transforms.ToTensor(),\n",
        "    transforms.Normalize((0.491, 0.482, 0.446), (0.247, 0.243, 0.261)),\n",
        "])"
      ]
    },
    {
      "cell_type": "code",
      "execution_count": null,
      "id": "16f5e3d0",
      "metadata": {
        "id": "16f5e3d0"
      },
      "outputs": [],
      "source": [
        "from torch.utils.data import random_split\n",
        "from torch.utils.data import DataLoader\n",
        "import torchvision\n",
        "\n",
        "batch_size = 512\n",
        "\n",
        "initial_trainset = torchvision.datasets.CIFAR10(root='./data', train=True, download=True, transform=transform_train)\n",
        "testset = torchvision.datasets.CIFAR10(root='./data', train=False, download=True, transform=transform_test)\n",
        "\n",
        "trainset, valset = random_split(initial_trainset, [45000, 5000])\n",
        "\n",
        "trainloader = None # YOUR CODE HERE (Read about DataLoader)\n",
        "valloader = None # YOUR CODE HERE\n",
        "testloader = None # YOUR CODE HERE"
      ]
    },
    {
      "cell_type": "markdown",
      "id": "38af33e9",
      "metadata": {
        "id": "38af33e9"
      },
      "source": [
        "## Visualization\n",
        "\n",
        "Visualize 5 random images from each class in different columns\n",
        "\n",
        "- **Hint**:  You can use `plt.subplots` for visualization"
      ]
    },
    {
      "cell_type": "code",
      "execution_count": null,
      "id": "aba4f001",
      "metadata": {
        "id": "aba4f001"
      },
      "outputs": [],
      "source": [
        "# inverse the normilize transform to restore the original data\n",
        "import torch\n",
        "\n",
        "class UnNormalize(object):\n",
        "    def __init__(self, mean, std):\n",
        "        self.mean = torch.tensor(mean)\n",
        "        self.std = torch.tensor(std)\n",
        "\n",
        "    def __call__(self, tensor, gray=False, coeff=(0.3, 0.59, 0.11)):\n",
        "        \"\"\"\n",
        "        Args:\n",
        "            tensor (Tensor): Tensor image of size (C, H, W) to be unnormalized.\n",
        "        Returns:\n",
        "            Tensor: Unnormalized image.\n",
        "        \"\"\"\n",
        "        # YOUR CODE HERE\n",
        "\n",
        "norminv = UnNormalize(mean=(0.491, 0.482, 0.446), std=(0.247, 0.243, 0.261))"
      ]
    },
    {
      "cell_type": "code",
      "execution_count": null,
      "id": "5059c101",
      "metadata": {},
      "outputs": [],
      "source": [
        "# YOUR CODE HERE"
      ]
    },
    {
      "cell_type": "markdown",
      "id": "6b042e6d",
      "metadata": {
        "id": "6b042e6d"
      },
      "source": [
        "# Fully Connected Neural Netwrok\n",
        "\n",
        "Your first task is to build a fully connected neural network with PyTorch. To achieve this, it is recommended that you familiarize yourself with the following PyTorch components and incorporate them into your network architecture:\n",
        "\n",
        "* [`nn.Module`](https://docs.pytorch.org/docs/stable/generated/torch.nn.Module.html)\n",
        "* [`nn.Sequential`](https://docs.pytorch.org/docs/stable/generated/torch.nn.Sequential.html)\n",
        "* [`nn.Linear`](https://docs.pytorch.org/docs/stable/generated/torch.nn.Linear.html)\n",
        "* [`nn.ReLU`](https://docs.pytorch.org/docs/stable/generated/torch.nn.ReLU.html)\n",
        "* [`nn.Dropout`](https://docs.pytorch.org/docs/stable/generated/torch.nn.Dropout.html)\n",
        "* [`nn.Flatten`](https://docs.pytorch.org/docs/stable/generated/torch.nn.Flatten.html)\n",
        "\n",
        "In the provided template below, the final layer of the model should be defined separately and assigned the name `linear`, as it will be referenced in a later section of this assignment.\n",
        "\n",
        "To ensure a fair comparison with convolutional neural networks (CNNs), both models should have approximately the same number of trainable parameters. Specifically, the fully connected model should contain **33,500,000 ± 500,000** trainable parameters.\n",
        "\n",
        "You will calculate the exact number of trainable parameters in the following subsection to ensure this requirement is met.\n",
        "\n",
        "\n"
      ]
    },
    {
      "cell_type": "code",
      "execution_count": null,
      "id": "f6e7e156",
      "metadata": {
        "id": "f6e7e156"
      },
      "outputs": [],
      "source": [
        "import torch\n",
        "import numpy as np\n",
        "import torchvision\n",
        "import torch.nn as nn\n",
        "import math\n",
        "from torchvision import transforms\n",
        "\n",
        "class FullyConnectedNetwork(nn.Module):\n",
        "    def __init__(self, input_shape=(3, 32, 32), num_classes=10):\n",
        "        super(FullyConnectedNetwork, self).__init__()\n",
        "        # YOUR CODE HERE\n",
        "\n",
        "        self.linear = nn.Linear # YOUR CODE HERE \n",
        "\n",
        "    def forward(self, x):\n",
        "        # YOUR CODE HERE"
      ]
    },
    {
      "cell_type": "markdown",
      "id": "DT0pxt3raYAK",
      "metadata": {
        "id": "DT0pxt3raYAK"
      },
      "source": [
        "## Trainable params\n",
        "\n",
        "Based on the defined architecture, manually calculate the total number of trainable parameters:"
      ]
    },
    {
      "cell_type": "markdown",
      "id": "y4GZnhVdbC41",
      "metadata": {
        "id": "y4GZnhVdbC41"
      },
      "source": [
        "`WRITE YOUR ANSWER HERE`"
      ]
    },
    {
      "cell_type": "markdown",
      "id": "ZrDxwbvTbCPW",
      "metadata": {
        "id": "ZrDxwbvTbCPW"
      },
      "source": [
        "Once you have completed your hand calculation, you can verify your result by running the following cell:"
      ]
    },
    {
      "cell_type": "code",
      "execution_count": null,
      "id": "a445b950",
      "metadata": {
        "colab": {
          "base_uri": "https://localhost:8080/"
        },
        "id": "a445b950",
        "outputId": "ec570c1c-d6d0-48b4-eec1-8f4a29864630"
      },
      "outputs": [],
      "source": [
        "from torchsummary import summary\n",
        "summary(FullyConnectedNetwork().to(device), input_size=(3, 32, 32));"
      ]
    },
    {
      "cell_type": "markdown",
      "id": "03332dbe",
      "metadata": {
        "id": "03332dbe"
      },
      "source": [
        "## Train"
      ]
    },
    {
      "cell_type": "markdown",
      "id": "43dddbe9",
      "metadata": {
        "id": "43dddbe9"
      },
      "source": [
        "### Model Instantiation\n",
        "\n",
        "Create an instance of your model and move it to your selected device (CPU or GPU). Refer to the PyTorch-tutorial notebook for guidance on how to perform this operation."
      ]
    },
    {
      "cell_type": "code",
      "execution_count": null,
      "id": "79780550",
      "metadata": {
        "id": "79780550"
      },
      "outputs": [],
      "source": [
        "model = None\n",
        "# YOUR CODE HERE"
      ]
    },
    {
      "cell_type": "markdown",
      "id": "4106f402",
      "metadata": {
        "id": "4106f402"
      },
      "source": [
        "### Criterion & Optimizer\n",
        "\n",
        "\n",
        "To train a neural network, we require a **loss function** (referred to as the *criterion*) to quantify the difference between the model's predictions and the true labels. This loss is then used to compute the gradients of the model parameters.\n",
        "\n",
        "In addition, an **optimization algorithm** is needed to update the model's parameters using the calculated gradients, in order to minimize the loss over time.\n",
        "\n",
        "You are encouraged to read about the following PyTorch components:\n",
        "\n",
        "* [`nn.CrossEntropyLoss`](https://docs.pytorch.org/docs/stable/generated/torch.nn.CrossEntropyLoss.html)\n",
        "* [`torch.optim.Adam`](https://docs.pytorch.org/docs/stable/generated/torch.optim.Adam.html)"
      ]
    },
    {
      "cell_type": "code",
      "execution_count": null,
      "id": "26aef33f",
      "metadata": {
        "id": "26aef33f"
      },
      "outputs": [],
      "source": [
        "criterion = None # YOUR CODE HERE\n",
        "optimizer = None # YOUR CODE HERE"
      ]
    },
    {
      "cell_type": "markdown",
      "id": "34e1e895",
      "metadata": {
        "id": "34e1e895"
      },
      "source": [
        "### Train loop\n",
        "\n",
        "Train your model\n",
        "\n",
        "Tasks:\n",
        "- Things that are needed to be printed in each epoch:\n",
        "  - Number of epoch\n",
        "  - Train loss\n",
        "  - Train accuracy\n",
        "  - Validation loss\n",
        "  - Validation accuracy\n",
        "- save train/validation loss and accuracy (of each epoch) in an array for later usage"
      ]
    },
    {
      "cell_type": "code",
      "execution_count": null,
      "id": "04e6acba",
      "metadata": {
        "id": "04e6acba"
      },
      "outputs": [],
      "source": [
        "def train_epoch(net: torch.nn.Module, criterion: torch.nn.Module, optimizer: torch.optim.Optimizer ,dataloader: torch.utils.data.DataLoader):\n",
        "    \"\"\"\n",
        "    Trains the neural network for a single epoch.\n",
        "\n",
        "    Args:\n",
        "        net (torch.nn.Module): The neural network model to be trained.\n",
        "        criterion (torch.nn.Module): The loss function used to compute the training loss.\n",
        "        optimizer (torch.optim.Optimizer): The optimization algorithm used to update model parameters.\n",
        "        dataloader (torch.utils.data.DataLoader): DataLoader providing the training data in batches.\n",
        "\n",
        "    Returns:\n",
        "        tuple:\n",
        "            - avg_loss (float): The average loss across all batches in the epoch.\n",
        "            - accuracy (float): The classification accuracy (in percentage) over the entire dataset for the epoch.\n",
        "\n",
        "    Notes:\n",
        "        - The `criterion` computes the loss between the model's predictions and the true labels.\n",
        "        - The `optimizer` updates the model's parameters based on the computed gradients to minimize the loss.\n",
        "    \"\"\"\n",
        "    \n",
        "    # YOUR CODE HERE\n",
        "    \n",
        "    avg_loss, accuracy = None, None\n",
        "    return avg_loss, accuracy\n",
        "\n",
        "def eval_epoch(net: torch.nn.Module, criterion: torch.nn.Module, dataloader: torch.utils.data.DataLoader, test_mode: bool = False):\n",
        "    \"\"\"\n",
        "    Evaluates the neural network on a validation or test dataset for one epoch.\n",
        "    \"\"\"\n",
        "    net.eval()\n",
        "    \n",
        "    # YOUR CODE HERE\n",
        "    \n",
        "    avg_loss, accuracy = None, None\n",
        "    return avg_loss, accuracy"
      ]
    },
    {
      "cell_type": "markdown",
      "id": "Fn8l5104lJ9h",
      "metadata": {
        "id": "Fn8l5104lJ9h"
      },
      "source": [
        "As previously mentioned, ensuring a fair comparison between models requires consistency in certain aspects of the training setup. One key factor is the number of **trainable parameters**, and another is the number of times the model processes the entire dataset—referred to as an **epoch**.\n",
        "\n",
        "To maintain consistency in training duration across models, **do not modify** the `epochs` variable defined below.\n"
      ]
    },
    {
      "cell_type": "code",
      "execution_count": null,
      "id": "62b9d129",
      "metadata": {
        "colab": {
          "base_uri": "https://localhost:8080/"
        },
        "id": "62b9d129",
        "outputId": "1aea11e2-0dd8-46d6-e50b-8db9abdbb274"
      },
      "outputs": [],
      "source": [
        "epochs = 60 # Do not modify\n",
        "\n",
        "history = {'train_loss':[], 'train_acc':[], 'val_loss':[], 'val_acc':[]}\n",
        "\n",
        "\n",
        "for epoch in range(epochs):\n",
        "    train_loss, train_acc = train_epoch(model, criterion, optimizer, trainloader)\n",
        "    val_loss, val_acc = eval_epoch(model, criterion, valloader)\n",
        "\n",
        "    history['train_loss'].append(train_loss)\n",
        "    history['train_acc'].append(train_acc)\n",
        "    history['val_loss'].append(val_loss)\n",
        "    history['val_acc'].append(val_acc)\n",
        "\n",
        "    print(f\"(Epoch {epoch + 1} / {epochs}) train loss:{train_loss: .4f}; train acc:{train_acc: .2f}%; val loss:{val_loss: .4f}; val_acc:{val_acc: .2f}%\")"
      ]
    },
    {
      "cell_type": "markdown",
      "id": "9fefdf5b",
      "metadata": {
        "id": "9fefdf5b"
      },
      "source": [
        "### Save Model\n",
        "\n",
        "Save the trained model for use in subsequent sections to avoid retraining it later.\n"
      ]
    },
    {
      "cell_type": "code",
      "execution_count": null,
      "id": "ca463735",
      "metadata": {
        "id": "ca463735"
      },
      "outputs": [],
      "source": [
        "torch.save(model.state_dict(), \"fully-connected.pth\")"
      ]
    },
    {
      "cell_type": "code",
      "execution_count": null,
      "id": "bTkiu6jJmSFO",
      "metadata": {
        "id": "bTkiu6jJmSFO"
      },
      "outputs": [],
      "source": [
        "# To load the previously saved model, simply uncomment the code below.\n",
        "# model.load_state_dict(torch.load('fully-connected.pth'))"
      ]
    },
    {
      "cell_type": "markdown",
      "id": "a2eb8d9a",
      "metadata": {
        "id": "a2eb8d9a"
      },
      "source": [
        "### Visualize Loss and Accuracy plot\n",
        "\n",
        "Using the arrays that you have (from task 2 in the above section), visualize two plots: Accuracy plot (train and validation together) and Loss plot (train and validation together)"
      ]
    },
    {
      "cell_type": "code",
      "execution_count": null,
      "id": "bd619c74",
      "metadata": {
        "colab": {
          "base_uri": "https://localhost:8080/",
          "height": 564
        },
        "id": "bd619c74",
        "outputId": "8a345623-dc0d-47b2-ffab-62a1d19f79fb"
      },
      "outputs": [],
      "source": [
        "# YOUR CODE HERE"
      ]
    },
    {
      "cell_type": "markdown",
      "id": "605ce639",
      "metadata": {
        "id": "605ce639"
      },
      "source": [
        "## Evaluation\n",
        "\n",
        "Test your trained model (using the Test Dataloader that you have). Our goal is to reach an accuracy above `60%`"
      ]
    },
    {
      "cell_type": "code",
      "execution_count": null,
      "id": "ed76b909",
      "metadata": {
        "colab": {
          "base_uri": "https://localhost:8080/"
        },
        "id": "ed76b909",
        "outputId": "01d87622-9a44-4bba-e09b-3c73dcb59de5"
      },
      "outputs": [],
      "source": [
        "# YOUR CODE HERE"
      ]
    },
    {
      "cell_type": "markdown",
      "id": "4b07057b",
      "metadata": {
        "id": "4b07057b"
      },
      "source": [
        "# Convolutional Neural Network"
      ]
    },
    {
      "cell_type": "markdown",
      "id": "b1c6a677",
      "metadata": {
        "id": "b1c6a677"
      },
      "source": [
        "## Model\n",
        "\n",
        "Define your model here from scratch (You are not allowed to use the existing models in pytorch)\n",
        "\n",
        "**NOTICE:** The model that you will have defined outputs a vector containing 10 numbers (for each class). Define a \"feature space\" that is a vector of size *N* (where *N > 10*) right before the last layer (You can then have a last layer like `nn.Linear(N, 10)`). See the image below to get a better understanding. We will use this later (we want to access the feature space of a sample when the sample is given to the model). The model tries to learn a representation of the samples in this feature space and we will see how good it could do this in later sections.\n",
        "\n",
        "![Feature Space In Neural Network](https://i.postimg.cc/28Qjcn9D/feature-space-vis.png)"
      ]
    },
    {
      "cell_type": "markdown",
      "id": "sRuwUjE7vECY",
      "metadata": {
        "id": "sRuwUjE7vECY"
      },
      "source": [
        " You are encouraged to learn about the following core components commonly used in convolutional neural networks:\n",
        "\n",
        "* [`nn.Conv2d`](https://docs.pytorch.org/docs/stable/generated/torch.nn.Conv2d.html)\n",
        "* [`nn.MaxPool2d`](https://docs.pytorch.org/docs/stable/generated/torch.nn.MaxPool2d.html)\n",
        "\n",
        "**Reminder**: The model you define should contain 33,500,000 ± 500,000 trainable parameters."
      ]
    },
    {
      "cell_type": "code",
      "execution_count": null,
      "id": "ccf14a2b",
      "metadata": {
        "id": "ccf14a2b"
      },
      "outputs": [],
      "source": [
        "class CNN(nn.Module):\n",
        "    def __init__(self, num_classes=10):\n",
        "        super(CNN, self).__init__()\n",
        "        \n",
        "        # YOUR CODE HERE\n",
        "        \n",
        "        self.linear = nn.Linear # YOUR CODE HERE\n",
        "\n",
        "    def forward(self, x):\n",
        "        # YOUR CODE HERE\n"
      ]
    },
    {
      "cell_type": "markdown",
      "id": "vDsvJK8HwxQi",
      "metadata": {
        "id": "vDsvJK8HwxQi"
      },
      "source": [
        "## Trainable params\n",
        "\n",
        "Based on the defined architecture, manually calculate the total number of trainable parameters:"
      ]
    },
    {
      "cell_type": "markdown",
      "id": "US4Q_L8ywyOT",
      "metadata": {
        "id": "US4Q_L8ywyOT"
      },
      "source": [
        "`WRITE YOUR ANSWER HERE`"
      ]
    },
    {
      "cell_type": "markdown",
      "id": "slCTTqkcwyjo",
      "metadata": {
        "id": "slCTTqkcwyjo"
      },
      "source": [
        "Once you have completed your hand calculation, you can verify your result by running the following cell:"
      ]
    },
    {
      "cell_type": "code",
      "execution_count": null,
      "id": "58b1ba2d",
      "metadata": {
        "colab": {
          "base_uri": "https://localhost:8080/"
        },
        "id": "58b1ba2d",
        "outputId": "65543dac-90b2-4e9a-c2d9-927466c052b7"
      },
      "outputs": [],
      "source": [
        "from torchsummary import summary\n",
        "summary(CNN().to(device), input_size=(3, 32, 32));"
      ]
    },
    {
      "cell_type": "markdown",
      "id": "010b3006",
      "metadata": {
        "id": "010b3006"
      },
      "source": [
        "## Train"
      ]
    },
    {
      "cell_type": "markdown",
      "id": "c0108582",
      "metadata": {
        "id": "c0108582"
      },
      "source": [
        "### Model instantiation\n",
        "\n",
        "Create an instance of your model and move it to `device`"
      ]
    },
    {
      "cell_type": "code",
      "execution_count": null,
      "id": "6b26772c",
      "metadata": {
        "id": "6b26772c"
      },
      "outputs": [],
      "source": [
        "model = None\n",
        "# YOUR CODE HERE"
      ]
    },
    {
      "cell_type": "markdown",
      "id": "2560c225",
      "metadata": {
        "id": "2560c225"
      },
      "source": [
        "### Criterion & Optimizer\n",
        "\n",
        "Define `criterion` and `optimizer`"
      ]
    },
    {
      "cell_type": "code",
      "execution_count": null,
      "id": "4e402145",
      "metadata": {
        "id": "4e402145"
      },
      "outputs": [],
      "source": [
        "# YOUR CODE HERE"
      ]
    },
    {
      "cell_type": "markdown",
      "id": "0505071d",
      "metadata": {
        "id": "0505071d"
      },
      "source": [
        "### Train loop\n",
        "\n",
        "Train your model\n",
        "\n",
        "Tasks:\n",
        "- Things that are needed to be printed in each epoch:\n",
        "  - Number of epoch\n",
        "  - Train loss\n",
        "  - Train accuracy\n",
        "  - Validation loss\n",
        "  - Validation accuracy\n",
        "- save train/validation loss and accuracy (of each epoch) in an array for later usage"
      ]
    },
    {
      "cell_type": "code",
      "execution_count": null,
      "id": "d52e9a67",
      "metadata": {
        "colab": {
          "base_uri": "https://localhost:8080/"
        },
        "id": "d52e9a67",
        "outputId": "26a40dc9-e6c2-4013-cce0-9ed5f8c5e605"
      },
      "outputs": [],
      "source": [
        "epochs = 60 # Do not modify\n",
        "history = {'train_loss':[], 'train_acc':[], 'val_loss':[], 'val_acc':[]}\n",
        "\n",
        "for epoch in range(epochs):\n",
        "    train_loss, train_acc = train_epoch(model, criterion, optimizer, trainloader)\n",
        "    val_loss, val_acc = eval_epoch(model, criterion, valloader)\n",
        "\n",
        "    history['train_loss'].append(train_loss)\n",
        "    history['train_acc'].append(train_acc)\n",
        "    history['val_loss'].append(val_loss)\n",
        "    history['val_acc'].append(val_acc)\n",
        "\n",
        "    print(f\"(Epoch {epoch + 1} / {epochs}) train loss:{train_loss: .4f}; train acc:{train_acc: .2f}%; val loss:{val_loss: .4f}; val_acc:{val_acc: .2f}%\")"
      ]
    },
    {
      "cell_type": "markdown",
      "id": "40d47fa2",
      "metadata": {
        "id": "40d47fa2"
      },
      "source": [
        "### Save Model\n",
        "\n",
        "Since changes need to be made to the model later on, it is advisable to save your model to avoid having to retrain it in case of any issues."
      ]
    },
    {
      "cell_type": "code",
      "execution_count": null,
      "id": "18225a44",
      "metadata": {
        "id": "18225a44"
      },
      "outputs": [],
      "source": [
        "torch.save(model.state_dict(), \"cnn.pth\")"
      ]
    },
    {
      "cell_type": "code",
      "execution_count": null,
      "id": "V-qLiq1XyUhF",
      "metadata": {
        "id": "V-qLiq1XyUhF"
      },
      "outputs": [],
      "source": [
        "# To load the previously saved model, simply uncomment the code below.\n",
        "# model.load_state_dict(torch.load('cnn.pth'))"
      ]
    },
    {
      "cell_type": "markdown",
      "id": "1bff7419",
      "metadata": {
        "id": "1bff7419"
      },
      "source": [
        "### Visualize Loss and Accuracy plot\n",
        "\n",
        "Using the arrays that you have (from task 2 in the above section), visualize two plots: Accuracy plot (train and validation together) and Loss plot (train and validation together)"
      ]
    },
    {
      "cell_type": "code",
      "execution_count": null,
      "id": "c4bb3871",
      "metadata": {
        "colab": {
          "base_uri": "https://localhost:8080/",
          "height": 564
        },
        "id": "c4bb3871",
        "outputId": "858a89bd-b8a3-4c3c-e663-04aa27cdc140"
      },
      "outputs": [],
      "source": [
        "# YOUR CODE HERE"
      ]
    },
    {
      "cell_type": "markdown",
      "id": "14d90b6e",
      "metadata": {
        "id": "14d90b6e"
      },
      "source": [
        "## Evaluation\n",
        "\n",
        "Test your trained model (using the Test Dataloader that you have). Our goal is to reach an accuracy above `80%`"
      ]
    },
    {
      "cell_type": "code",
      "execution_count": null,
      "id": "2TmerECvpu2u",
      "metadata": {
        "colab": {
          "base_uri": "https://localhost:8080/"
        },
        "id": "2TmerECvpu2u",
        "outputId": "028e1db4-3355-405f-d506-39fd53f4a72d"
      },
      "outputs": [],
      "source": [
        "# YOUR CODE HERE"
      ]
    },
    {
      "cell_type": "markdown",
      "id": "65b5d8b8",
      "metadata": {
        "id": "65b5d8b8"
      },
      "source": [
        "## Visualize incorrectly predicted samples from testset\n",
        "\n",
        "Visualize *24* random images from testset that are incorrectly predicted by the model. Note that if you used normalization in the transform function for loading the data, you will need to unnormalize the images before displaying them."
      ]
    },
    {
      "cell_type": "code",
      "execution_count": null,
      "id": "37581769",
      "metadata": {
        "colab": {
          "base_uri": "https://localhost:8080/",
          "height": 673
        },
        "id": "37581769",
        "outputId": "86f1188e-0adf-4996-d635-8827978a5a06"
      },
      "outputs": [],
      "source": [
        "# YOUR CODE HERE"
      ]
    },
    {
      "cell_type": "markdown",
      "id": "f5b8417c",
      "metadata": {
        "id": "f5b8417c"
      },
      "source": [
        "## Exploring the feature space"
      ]
    },
    {
      "cell_type": "markdown",
      "id": "efba504b",
      "metadata": {
        "id": "efba504b"
      },
      "source": [
        "### Calculate the feature space for all training samples\n",
        "\n",
        "You have trained and evaluated your model. Now, for each sample in the trainset, calculate it's \"feature space\" discussed in the model section. The result of this section should be a tensor of size `(45000, N)` saved in a variable (for later usage)\n",
        "\n",
        "- **Hint:** Pay attension to the `shuffle` attribute of your train dataloader (If needed)"
      ]
    },
    {
      "cell_type": "code",
      "execution_count": null,
      "id": "85497cb8",
      "metadata": {
        "colab": {
          "base_uri": "https://localhost:8080/"
        },
        "id": "85497cb8",
        "outputId": "83172835-02c5-417c-d31c-b160a0361c4c"
      },
      "outputs": [],
      "source": [
        "# YOUR CODE HERE"
      ]
    },
    {
      "cell_type": "markdown",
      "id": "3a060670",
      "metadata": {
        "id": "3a060670"
      },
      "source": [
        "### K Nearest Neighbor in feature space\n",
        "\n",
        "We already have calculated the feature spaces for trainset ($S$) in the previous section. Now we follow these steps to explore the featre space:\n",
        "\n",
        "1. Get 5 random samples from testset which are correctly predicted by the model.\n",
        "2. for each sample, calculate it's \"feature space\" ($X$)\n",
        "3. for each sample, calculate it's *5* nearest neighbors in \"feature space\" in the trainset (by comparing $X$ to each row in $S$) and visualize them"
      ]
    },
    {
      "cell_type": "code",
      "execution_count": null,
      "id": "941c62d3",
      "metadata": {
        "id": "941c62d3"
      },
      "outputs": [],
      "source": [
        "feature_space = None\n",
        "# YOUR CODE HERE"
      ]
    },
    {
      "cell_type": "markdown",
      "id": "992fc114",
      "metadata": {
        "id": "992fc114"
      },
      "source": [
        "### TSNE"
      ]
    },
    {
      "cell_type": "markdown",
      "id": "ccca0749",
      "metadata": {
        "id": "ccca0749"
      },
      "source": [
        "Let's follow these steps to explore feature space even more:\n",
        "\n",
        "1. Sample $M$ ($2000$ would be enought) random samples from the trainset feature space (calculated in the above sections)\n",
        "2. Now we have a vector of size `(M, N)` where $N$ is the dimension of the feature space\n",
        "3. Using TSNE reduce $N$ to $2$ (Now we have a vector of size `(M, 2)`)\n",
        "4. Visualize the points in a 2D plane (Set color of each point based on it's class)\n"
      ]
    },
    {
      "cell_type": "code",
      "execution_count": null,
      "id": "e914ee6d",
      "metadata": {
        "id": "e914ee6d"
      },
      "outputs": [],
      "source": [
        "from sklearn.manifold import TSNE\n",
        "\n",
        "indices = np.random.randint(0, len(feature_space), 2000)\n",
        "feature_space = feature_space[indices]\n",
        "tsne = TSNE(n_components=2, random_state=42)\n",
        "reduced_space = tsne.fit_transform(feature_space.reshape(feature_space.shape[0], -1).detach().cpu().numpy())"
      ]
    },
    {
      "cell_type": "code",
      "execution_count": null,
      "id": "c2c5ed40",
      "metadata": {
        "colab": {
          "base_uri": "https://localhost:8080/",
          "height": 472
        },
        "id": "c2c5ed40",
        "outputId": "1817c2ac-855d-4df9-85a2-6f7ef5bde6e5"
      },
      "outputs": [],
      "source": [
        "# YOUR CODE HERE"
      ]
    },
    {
      "cell_type": "markdown",
      "id": "CqAnGD6bQTtX",
      "metadata": {
        "id": "CqAnGD6bQTtX"
      },
      "source": [
        "### Feature Map\n",
        "\n",
        "\n",
        "In this part, we are going to visualize the output of one of the convolutional layers to see what features they focus on.\n",
        "\n",
        "First, let's select a random image from dataset."
      ]
    },
    {
      "cell_type": "code",
      "execution_count": null,
      "id": "hgtFfcAoQage",
      "metadata": {
        "id": "hgtFfcAoQage"
      },
      "outputs": [],
      "source": [
        "image = trainset[3][0]"
      ]
    },
    {
      "cell_type": "markdown",
      "id": "Bw9pZj77QchG",
      "metadata": {
        "id": "Bw9pZj77QchG"
      },
      "source": [
        "Now, we are going to *clip* our model at different points to get different intermediate representation.\n",
        "* Clip your model at least at one point and plot the filters output. You can use the output of first Resnet block.\n",
        "\n",
        "In order to clip the model, you can use `model.children()` method. For example, to get output only after the first 2 layers, you can do:\n",
        "\n",
        "```\n",
        "clipped = nn.Sequential(\n",
        "    *list(model.children()[:2])\n",
        ")\n",
        "intermediate_output = clipped(input)\n",
        "```\n",
        "\n"
      ]
    },
    {
      "cell_type": "code",
      "execution_count": null,
      "id": "bIuL99GvQlBq",
      "metadata": {
        "colab": {
          "base_uri": "https://localhost:8080/"
        },
        "id": "bIuL99GvQlBq",
        "outputId": "5de6226d-86b9-4c13-8907-f58c710e3b36"
      },
      "outputs": [],
      "source": [
        "intermediate_output = None\n",
        "# YOUR CODE HERE"
      ]
    },
    {
      "cell_type": "code",
      "execution_count": null,
      "id": "uogAAe6aQuV5",
      "metadata": {
        "colab": {
          "base_uri": "https://localhost:8080/"
        },
        "id": "uogAAe6aQuV5",
        "outputId": "863dba18-83e8-4d64-8d90-bf15c466dcee"
      },
      "outputs": [],
      "source": [
        "intermediate_output.shape"
      ]
    },
    {
      "cell_type": "code",
      "execution_count": null,
      "id": "HbzKpPANQo1k",
      "metadata": {
        "colab": {
          "base_uri": "https://localhost:8080/",
          "height": 673
        },
        "id": "HbzKpPANQo1k",
        "outputId": "e5271aef-9cc9-472f-d020-a233566c9f89"
      },
      "outputs": [],
      "source": [
        "import matplotlib.pyplot as plt\n",
        "\n",
        "def plot_intermediate_output(result, title=None):\n",
        "    \"\"\" \n",
        "    Plots the intermediate output of shape\n",
        "    N_FILTERS x H x W\n",
        "    \"\"\"\n",
        "    plt.rcParams['figure.dpi'] = 150\n",
        "    n_filters = result.shape[1]\n",
        "    N = int(math.sqrt(n_filters))\n",
        "    M = (n_filters + N - 1) // N\n",
        "    assert N * M >= n_filters\n",
        "\n",
        "    fig, axs = plt.subplots(N, M)\n",
        "    fig.suptitle(title)\n",
        "\n",
        "    for i in range(N):\n",
        "        for j in range(M):\n",
        "            if i*N + j < n_filters:\n",
        "                axs[i][j].imshow(result[0, i*N + j].cpu().detach())\n",
        "                axs[i][j].axis('off')\n",
        "\n",
        "plot_intermediate_output(intermediate_output, title='Feature Maps')"
      ]
    },
    {
      "cell_type": "markdown",
      "id": "VSJAdi3ESoRx",
      "metadata": {
        "id": "VSJAdi3ESoRx"
      },
      "source": [
        "\n",
        "**Note:** You are expected to analyze all results presented in this notebook and thoughtfully consider the underlying reasons behind them. Be prepared to discuss your insights during the **in-person review session**.\n",
        "A written report is not required.\n"
      ]
    }
  ],
  "metadata": {
    "accelerator": "GPU",
    "colab": {
      "gpuType": "T4",
      "provenance": []
    },
    "kernelspec": {
      "display_name": "Python (conda)",
      "language": "python",
      "name": "base"
    },
    "language_info": {
      "codemirror_mode": {
        "name": "ipython",
        "version": 3
      },
      "file_extension": ".py",
      "mimetype": "text/x-python",
      "name": "python",
      "nbconvert_exporter": "python",
      "pygments_lexer": "ipython3",
      "version": "3.11.5"
    }
  },
  "nbformat": 4,
  "nbformat_minor": 5
}
